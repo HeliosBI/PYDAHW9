{
 "cells": [
  {
   "cell_type": "markdown",
   "metadata": {},
   "source": [
    "**Задание 1.** Напишите функцию, которая принимает на вход строку и проверяет является ли она валидным транспортным номером. Если да, то функция должна возвращать отдельно номер и регион."
   ]
  },
  {
   "cell_type": "code",
   "execution_count": 20,
   "metadata": {},
   "outputs": [
    {
     "name": "stdout",
     "output_type": "stream",
     "text": [
      "('78', 'С865МК')\n"
     ]
    }
   ],
   "source": [
    "def check_car_id(car_id):\n",
    "    import re\n",
    "    id_check_result = re.findall('([а-яА-ЯёЁ]{1}[0-9]{3}[а-яА-ЯёЁ]{2})([0-9]{2})', car_id)\n",
    "    if id_check_result:\n",
    "        id_num = id_check_result[0][0]\n",
    "        reg_num = id_check_result[0][1]\n",
    "        return reg_num, id_num\n",
    "    else:\n",
    "        print('Введите корректный номер а/м!')\n",
    "\n",
    "print(check_car_id('С865МК78'))"
   ]
  },
  {
   "cell_type": "markdown",
   "metadata": {},
   "source": [
    "**Задание 2**. Напишите функцию, которая проверяет e-mail адрес на валидность по стандарту RFC822: http://www.w3.org/Protocols/rfc822/. Для этого постарайтесь написать (в крайнем случае найти) самый полный шаблон для проверки e-mail адресов через регулярное выражение. Разберитесь и напишите примеры, какие ваш шаблон может не охватить."
   ]
  },
  {
   "cell_type": "code",
   "execution_count": null,
   "metadata": {},
   "outputs": [],
   "source": []
  },
  {
   "cell_type": "markdown",
   "metadata": {},
   "source": [
    "**Задание 3.** Напишите функцию, которая будет удалять все последовательные повторы слов из заданной строки при помощи регулярных выражений."
   ]
  },
  {
   "cell_type": "code",
   "execution_count": null,
   "metadata": {},
   "outputs": [],
   "source": []
  },
  {
   "cell_type": "markdown",
   "metadata": {},
   "source": [
    "**Задание 4**. Напишите функцию, которая будет проверять номер сотового телефона на валидность, если он валиден, то переводить его в формат:   \n",
    "+7(xxx)-xxx-xx-xx  \n",
    "Постарайтесь предусмотреть как можно больше адекватных форматов изначального ввода номера.\n",
    "Примеры валидных форматов:\n",
    "- +7 955 555-55-55;\n",
    "- 9555555555;\n",
    "- 8(955)555-55-55;\n",
    "- +7 955 555 55 55;\n",
    "- 7(955) 555-55-55;\n",
    "- +7 955+555+55+55."
   ]
  },
  {
   "cell_type": "code",
   "execution_count": 24,
   "metadata": {},
   "outputs": [
    {
     "name": "stdout",
     "output_type": "stream",
     "text": [
      "(\"+7(['9', '5', '5'])\", \"-['5', '5', '5']-['5', '5']-['5', '5']\")\n",
      "заглушка под 10-значный номер\n",
      "None\n",
      "(\"+7(['9', '5', '5'])\", \"-['5', '5', '5']-['5', '5']-['5', '5']\")\n",
      "(\"+7(['9', '5', '5'])\", \"-['5', '5', '5']-['5', '5']-['5', '5']\")\n",
      "(\"+7(['9', '5', '5'])\", \"-['5', '5', '5']-['5', '5']-['5', '5']\")\n",
      "(\"+7(['9', '5', '5'])\", \"-['5', '5', '5']-['5', '5']-['5', '5']\")\n"
     ]
    }
   ],
   "source": [
    "def check_cell_num(cell_num):\n",
    "    import re\n",
    "    num_check_result = re.findall('\\d', cell_num)\n",
    "    if num_check_result:\n",
    "        if len(num_check_result) == 11:\n",
    "            start = '+7' + '(' + str(num_check_result[1:4]) + ')'\n",
    "            num = '-' + str(num_check_result[4:7]) + '-' + str(num_check_result[7:9]) + '-' + str(num_check_result[9:])\n",
    "            return start, num\n",
    "        else:\n",
    "            print('заглушка под 10-значный номер')\n",
    "    else:\n",
    "        print('Введите корректный номер телефона')\n",
    "\n",
    "print(check_cell_num('+7 955+555+55+55'))\n",
    "print(check_cell_num('9555555555'))\n",
    "print(check_cell_num('8(955)555-55-55'))\n",
    "print(check_cell_num('7(955) 555-55-55'))\n",
    "print(check_cell_num('+7 955 555 55 55'))\n",
    "print(check_cell_num('+7 955+555+55+55'))"
   ]
  }
 ],
 "metadata": {
  "kernelspec": {
   "display_name": "Python 3",
   "language": "python",
   "name": "python3"
  },
  "language_info": {
   "codemirror_mode": {
    "name": "ipython",
    "version": 3
   },
   "file_extension": ".py",
   "mimetype": "text/x-python",
   "name": "python",
   "nbconvert_exporter": "python",
   "pygments_lexer": "ipython3",
   "version": "3.7.4"
  }
 },
 "nbformat": 4,
 "nbformat_minor": 2
}
