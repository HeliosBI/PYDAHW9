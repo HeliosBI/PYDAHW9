{
 "cells": [
  {
   "cell_type": "markdown",
   "metadata": {},
   "source": [
    "**Задание 1.** Напишите функцию, которая принимает на вход строку и проверяет является ли она валидным транспортным номером. Если да, то функция должна возвращать отдельно номер и регион."
   ]
  },
  {
   "cell_type": "code",
   "execution_count": null,
   "metadata": {},
   "outputs": [],
   "source": [
    "def check_car_id(car_id):\n",
    "    import re\n",
    "    id_check_result = re.findall('([а-яА-ЯёЁ]{1}[0-9]{3}[а-яА-ЯёЁ]{2})([0-9]{2})', car_id)\n",
    "    if id_check_result:\n",
    "        id_num = id_check_result[0][0]\n",
    "        reg_num = id_check_result[0][1]\n",
    "        return reg_num, id_num\n",
    "    else:\n",
    "        print('Введите корректный номер а/м!')\n",
    "        return\n",
    "\n",
    "print(check_car_id('С865МК78'))"
   ]
  },
  {
   "cell_type": "markdown",
   "metadata": {},
   "source": [
    "**Задание 2**. Напишите функцию, которая проверяет e-mail адрес на валидность по стандарту RFC822: http://www.w3.org/Protocols/rfc822/. Для этого постарайтесь написать (в крайнем случае найти) самый полный шаблон для проверки e-mail адресов через регулярное выражение. Разберитесь и напишите примеры, какие ваш шаблон может не охватить."
   ]
  },
  {
   "cell_type": "code",
   "execution_count": null,
   "metadata": {},
   "outputs": [],
   "source": [
    "def check_email(email):\n",
    "    import re\n",
    "    result = re.findall(\"[a-zA-Z0-9_.\\-! # $ % & ' * + - \\/ = ? ^ _ ` { |]+@[a-zA-Z0-9.]+\\.{1}[a-zA-Z]+$\", email)\n",
    "    if result:\n",
    "        return True\n",
    "    else:\n",
    "        return False\n",
    "    \n",
    "print(check_email('aan-167@yandex.ru'))\n",
    "print(check_email('netology_test@mail.ru'))\n",
    "print(check_email('313@comdg.ru'))\n",
    "print(check_email('frenzz@rambler.ru'))\n",
    "print(check_email('вавафывпвфып'))\n",
    "print(check_email('aaa@ffsdgsfru'))\n",
    "print(check_email('adfaadfggmail.ru'))\n",
    "print(check_email('aan-167@.ru'))\n",
    "print(check_email('313@com.dg.ru'))\n",
    "print(check_email('aan-$$167@yandex.ru'))"
   ]
  },
  {
   "cell_type": "markdown",
   "metadata": {},
   "source": [
    "Есть ощущение, что мой запрос не охватывает очень много разных случаев. <br />\n",
    "Например: <br />\n",
    "- если адрес будет начинатьяс или заканчиваться на спец. символ.<br />\n",
    "- если адрес будет написан не на латинском языке (если так можно сейчас)<br />\n",
    "- если будет какое-то совсем нестандартное доменное имя почты<br />"
   ]
  },
  {
   "cell_type": "markdown",
   "metadata": {},
   "source": [
    "**Задание 3.** Напишите функцию, которая будет удалять все последовательные повторы слов из заданной строки при помощи регулярных выражений."
   ]
  },
  {
   "cell_type": "code",
   "execution_count": null,
   "metadata": {},
   "outputs": [],
   "source": [
    "def kill_duplicates_in_row(text_string):\n",
    "    import re\n",
    "    output = re.sub(r'\\b(\\w+)( \\1\\b)+', r'\\1', text_string)\n",
    "    return output\n",
    "\n",
    "print(kill_duplicates_in_row('мама мама мыла мыла раму раму'))\n",
    "print(kill_duplicates_in_row('Мама мама мыла мыла раму раму'))\n",
    "print(kill_duplicates_in_row('мама мыла мыла мама 33 33 рамы рамы 33 33 раза'))"
   ]
  },
  {
   "cell_type": "markdown",
   "metadata": {},
   "source": [
    "**Задание 4**. Напишите функцию, которая будет проверять номер сотового телефона на валидность, если он валиден, то переводить его в формат:   \n",
    "+7(xxx)-xxx-xx-xx  \n",
    "Постарайтесь предусмотреть как можно больше адекватных форматов изначального ввода номера.\n",
    "Примеры валидных форматов:\n",
    "- +7 955 555-55-55;\n",
    "- 9555555555;\n",
    "- 8(955)555-55-55;\n",
    "- +7 955 555 55 55;\n",
    "- 7(955) 555-55-55;\n",
    "- +7 955+555+55+55."
   ]
  },
  {
   "cell_type": "code",
   "execution_count": null,
   "metadata": {},
   "outputs": [],
   "source": [
    "def check_cell_num(cell_num):\n",
    "    import re\n",
    "    num_check_result = re.findall('\\d', cell_num)\n",
    "    if len(num_check_result) == 11:\n",
    "        reg_code = ''.join(str(d.replace(' ','')) for d in num_check_result[1:4])\n",
    "        num_1 = ''.join(str(d.replace(' ','')) for d in num_check_result[4:7])\n",
    "        num_2 = ''.join(str(d.replace(' ','')) for d in num_check_result[7:9])\n",
    "        num_3 = ''.join(str(d.replace(' ','')) for d in num_check_result[9:])\n",
    "        num_output = '+7(' + reg_code + ')-' + num_1 + '-' + num_2 + '-' + num_3\n",
    "        return num_output\n",
    "    elif len(num_check_result) == 10:\n",
    "        reg_code = ''.join(str(d.replace(' ','')) for d in num_check_result[0:3])\n",
    "        num_1 = ''.join(str(d.replace(' ','')) for d in num_check_result[3:6])\n",
    "        num_2 = ''.join(str(d.replace(' ','')) for d in num_check_result[6:8])\n",
    "        num_3 = ''.join(str(d.replace(' ','')) for d in num_check_result[8:])\n",
    "        num_output = '+7(' + reg_code + ')-' + num_1 + '-' + num_2 + '-' + num_3\n",
    "        return num_output\n",
    "    else:\n",
    "        print('Количество цифр не равно 10 и 11, это точно номер сотового телефона?')\n",
    "        return\n",
    "\n",
    "print(check_cell_num('+7 955+555+55+55'))\n",
    "print(check_cell_num('9555555555'))\n",
    "print(check_cell_num('8(955)555-55-55'))\n",
    "print(check_cell_num('7(955) 555-55-55'))\n",
    "print(check_cell_num('+7 955 555 55 55'))\n",
    "print(check_cell_num('+7 955+555+55+55'))"
   ]
  }
 ],
 "metadata": {
  "kernelspec": {
   "display_name": "Python 3",
   "language": "python",
   "name": "python3"
  },
  "language_info": {
   "codemirror_mode": {
    "name": "ipython",
    "version": 3
   },
   "file_extension": ".py",
   "mimetype": "text/x-python",
   "name": "python",
   "nbconvert_exporter": "python",
   "pygments_lexer": "ipython3",
   "version": "3.7.4"
  }
 },
 "nbformat": 4,
 "nbformat_minor": 2
}
